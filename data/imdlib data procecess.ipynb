{
  "cells": [
    {
      "cell_type": "code",
      "execution_count": null,
      "metadata": {
        "id": "Ba-OcqrSNWWR"
      },
      "outputs": [],
      "source": [
        "# Install latest imdlib\n",
        "pip install imdlib"
      ]
    },
    {
      "cell_type": "code",
      "execution_count": null,
      "metadata": {
        "id": "LpPH9xjTNv7j"
      },
      "outputs": [],
      "source": [
        "# Import imdlib\n",
        "import imdlib as imd\n",
        "\n",
        "# Setting up things\n",
        "start_yr = 1973\n",
        "end_yr = 2023\n",
        "variable = 'rain' # Other options are ('tmin'/ 'tmax')\n",
        "data = imd.get_data(variable, start_yr, end_yr, fn_format='yearwise')"
      ]
    },
    {
      "cell_type": "code",
      "execution_count": null,
      "metadata": {
        "id": "QHG9SOUZXaKy"
      },
      "outputs": [],
      "source": [
        "# Read data\n",
        "start_yr = 1973\n",
        "end_yr = 2023\n",
        "variable = 'rain' # Other options are ('tmin'/ 'tmax')\n",
        "file_dir = (r'/content/') #Path to save the files\n",
        "data = imd.open_data(variable, start_yr, end_yr,'yearwise', file_dir)\n",
        "data"
      ]
    },
    {
      "cell_type": "code",
      "source": [
        "# Exporting data to .CSV files for each district\n",
        "import os\n",
        "os.makedirs(\"dists\")\n",
        "coords = [[19.05,74.48,\"Ahilya Nagar\"],[20.42,77.02,\"Akola\"],[20.56,77.48,\"Amravati\"],[19.53,75.23,\"Chhatrapati Sambhajinagar\"],[21.09,79.42,\"Bhandara\"],[18.99,75.75,\"Beed\"],[20.32,76.14,\"Buldana\"],[19.57,79.21,\"Chandrapur\"],[20.58,74.47,\"Dhule\"],[20.18,79.99,\"Gadchiroli\"],[21.28,80.29,\"Gondiya\"],[19.43,77.11,\"Hingoli\"],[21.05,75.40,\"Jalgaon\"],[19.51,75.56,\"Jalna\"],[16.42,74.16,\"Kolhapur\"],[18.24,76.36,\"Latur\"],[18.97,72.83,\"Mumbai City\"],[19.11,72.87,\"Mumbai Suburban\"],[21.09,79.09,\"Nagpur\"],[19.09,77.27,\"Nanded\"],[21.23,74.19,\"Nandurbar\"],[20.02,73.50,\"Nashik\"],[18.08,76.06,\"Dharashiv\"],[19.69,72.76,\"Palghar\"],[19.08,76.50,\"Parbhani\"],[18.31,73.55,\"Pune\"],[18.44,73.05,\"Raigad\"],[17.08,73.19,\"Ratnagiri\"],[16.52,74.36,\"Sangli\"],[17.42,74.02,\"Satara\"],[16.34,73.55,\"Sindhudurg\"],[17.65,75.90,\"Solapur\"],[19.12,73.02,\"Thane\"],[20.45,78.39,\"Wardha\"],[20.11,77.13,\"Washim\"],[20.23,78.11,\"Yavatmal\"]]\n",
        "\n",
        "file_dir = (r'/content/dists')\n",
        "\n",
        "for points in coords:\n",
        "  lat = points[0]\n",
        "  lon = points[1]\n",
        "  filename = \"dist_tmindata_\" + points[2]\n",
        "  data.to_csv(filename, lat, lon, file_dir)\n",
        "  print (\"data save for \",points)"
      ],
      "metadata": {
        "id": "OEKr4tJPrmlC"
      },
      "execution_count": null,
      "outputs": []
    },
    {
      "cell_type": "code",
      "source": [
        "# Zipping\n",
        "!zip -r /content/tmindatafile.zip /content/dists"
      ],
      "metadata": {
        "id": "p4ejoteC9FJh"
      },
      "execution_count": null,
      "outputs": []
    }
  ],
  "metadata": {
    "colab": {
      "provenance": []
    },
    "kernelspec": {
      "display_name": "Python 3",
      "name": "python3"
    },
    "language_info": {
      "name": "python"
    }
  },
  "nbformat": 4,
  "nbformat_minor": 0
}